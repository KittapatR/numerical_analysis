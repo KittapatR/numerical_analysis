{
 "cells": [
  {
   "cell_type": "markdown",
   "source": [
    "# Chapter 2: Solving Linear System\r\n",
    "MTH 264 Numerical Methods\r\n",
    "\r\n",
    "Kittapat Ratanaphupha"
   ],
   "metadata": {}
  },
  {
   "cell_type": "markdown",
   "source": [
    "## Library-based method: `np.linalg.solve`\r\n",
    "For the simplest way to solve the linear equation, as we know the form that looks like this equation:\r\n",
    "$$ A\\mathbf{x} = \\mathbf{b},$$\r\n",
    "where $A$ is a square matrix in dimension of $n \\times n$, $\\mathbf{x}$ and $\\mathbf{b}$ are the vectors which have the same dimension as $n$ dimension, but $\\mathbf{b}$ is determined.\r\n",
    "\r\n",
    "What we would like to solve is the vector $\\mathbf{x}$. In Python built-in, there is a function called `np.linalg.solve` as we will implement below.\r\n",
    "\r\n",
    "This function requires two arguments for running it. Those are $A$ and $\\mathbf{b}$. The result that will be returned in the function is $\\mathbf{x}$."
   ],
   "metadata": {}
  },
  {
   "cell_type": "code",
   "execution_count": 1,
   "source": [
    "import numpy as np\r\n",
    "np.linalg.solve([[1,1,1],[1,5,1],[0.1, 10, 1]], [10,20, 30])"
   ],
   "outputs": [
    {
     "output_type": "execute_result",
     "data": {
      "text/plain": [
       "array([2.77777778, 2.5       , 4.72222222])"
      ]
     },
     "metadata": {},
     "execution_count": 1
    }
   ],
   "metadata": {}
  },
  {
   "cell_type": "markdown",
   "source": [
    "For the example, we examine this linear equation,\r\n",
    "\r\n",
    "$$\\begin{pmatrix} 1&1&1 \\\\ 1&5&1 \\\\ 0.1&10&1 \\end{pmatrix}\\mathbf{x} = \\begin{pmatrix}10 \\\\ 20 \\\\ 30\\end{pmatrix}$$\r\n",
    "\r\n",
    "As the introductory course, we can solve it with two approaches analytically: Cramer's method and Gaussian elimination.\r\n",
    "\r\n",
    "Although, as the built-in function in Numpy have, the function is referenced from LAPACK routine `_gesv`. (Ref: [Developer Reference for Intel oneAPI Math Kernel Library](https://software.intel.com/content/www/us/en/develop/documentation/onemkl-developer-reference-c/top/lapack-routines/lapack-linear-equation-routines/lapack-linear-equation-driver-routines/gesv.html)) The function follows the reputed algorithm, LUP decomposition."
   ],
   "metadata": {}
  },
  {
   "cell_type": "markdown",
   "source": [
    "### Floating points\r\n",
    "For linear equation solving algorithm, the main component of it is the reciprocal of the element in matrix that is stored in `double` datatype.\r\n",
    "\r\n",
    "According to `double` datatype structure (double-precision floating point format), as the definition in IEEE 754-2008, the variable in this datatype always stores 64-bit of data in the memory.\r\n",
    "\r\n",
    "<p align = \"center\"><img src = \"https://i.stack.imgur.com/AyCTR.png\"/></p>\r\n",
    "\r\n",
    "The structure can be classified in three categories: the signed bit, the exponent bits (11-bit), and the precision bits (52-bit). If the bits are represented as $b_i$ in i-th bit, certain double-precision floating point will be represented a number as:\r\n",
    "\r\n",
    "$$x = \\underbrace{(-1)^{b_0}}_{\\text{sign bit}} \\underbrace{2^{(-1)^{b_1}\\sum_{i = 2}^{11} 2^{11-i} b_i}}_{\\text{exponent bits}} \\underbrace{\\sum_{i = 12}^{63} 2^{-64+i} b_i}_{\\text{precision bits}}$$\r\n",
    "\r\n",
    "The largest value in magnitude that `double` can be represented is $2^{1023} \\sum_{i=0}^{52} 2^{-i}$ or $\\sim 1.797 \\times 10^{308}$,\r\n",
    "\r\n",
    "and $2^{-1074}$ or $\\sim 5 \\times 10^{-324}$ for machine epsilon.\r\n",
    "\r\n",
    "As the code here, we cannot add or subtract any floating points into this to get higher precision/values; you will get overflow error by such attempts."
   ],
   "metadata": {}
  },
  {
   "cell_type": "code",
   "execution_count": 2,
   "source": [
    "summand = 0\r\n",
    "for i in range(53):\r\n",
    "    summand += 2**-i\r\n",
    "\r\n",
    "float(2**-1023 * 2 ** -51), float(2**1023 * summand)"
   ],
   "outputs": [
    {
     "output_type": "execute_result",
     "data": {
      "text/plain": [
       "(5e-324, 1.7976931348623157e+308)"
      ]
     },
     "metadata": {},
     "execution_count": 2
    }
   ],
   "metadata": {}
  },
  {
   "cell_type": "markdown",
   "source": [
    "Although, if we give the higher precision scheme in the script, we will face a situation that the function with respect to their values will give more error due to an aggravated round-off error."
   ],
   "metadata": {}
  },
  {
   "cell_type": "markdown",
   "source": [
    "### LUP decomposition\r\n",
    "\r\n",
    "As `np.linalg.solve` is inspired of, this algorithm bases the certain function to calculate a linear equation system solving by decompose the equation to a form like this,\r\n",
    "$$A\\mathbf{x} = \\mathbf{b} \\rightarrow LU\\mathbf{x} = P\\mathbf{b},$$\r\n",
    "\r\n",
    "where $P$ is permutation matrix, $L$ is lower triangular matrix with diagonal terms, and $U$ is higher triangular matrix with diagonal terms.\r\n",
    "\r\n",
    "This algorithm is inspired by Gaussian elimination. The elimination has two features to calculate the matrix $A$ to $U$, $L$, and $P$: partial pivot and addition/subtraction by row. It can solve recursively such the below function will follow this routine by reducing squared matrix dimension from $n$ to $n-1$ dimensions until it meets 1 dimension. Then, we will resemble the matrix to get full results."
   ],
   "metadata": {}
  },
  {
   "cell_type": "code",
   "execution_count": 3,
   "source": [
    "def LUP_decomp(A):\r\n",
    "    assert len(A) == len(A[0]), \"The matrix must be squared matrix.\"\r\n",
    "\r\n",
    "    if len(A) == 1:\r\n",
    "        L = [[1]]\r\n",
    "        U = A\r\n",
    "        P = [[1]]\r\n",
    "        return L, U, P\r\n",
    "    \r\n",
    "    # Choose i as largest element index at the first row\r\n",
    "    cut_index = 0\r\n",
    "    tmp_max = abs(A[0][0])\r\n",
    "    for index in range(len(A[0])):\r\n",
    "        if abs(A[index][0]) > tmp_max:\r\n",
    "            cut_index = index\r\n",
    "            tmp_max = A[index][0]\r\n",
    "    assert tmp_max > 1e-10, \"An element in matrix is too small, beware of overflowing.\"\r\n",
    "    \r\n",
    "    # Permutation\r\n",
    "    new_A = []\r\n",
    "    row = []\r\n",
    "    col = []\r\n",
    "    denominator = 0\r\n",
    "    for i in range(len(A)):\r\n",
    "        tmp_row = []\r\n",
    "        for j in range(len(A[0])):\r\n",
    "            if j == 0:\r\n",
    "                if i == cut_index: denominator = A[i][j]\r\n",
    "                else: row.append(A[i][j])\r\n",
    "            elif i == 0: col.append(A[cut_index][j])\r\n",
    "            elif i <= cut_index: tmp_row.append(A[i - 1][j])\r\n",
    "            else: tmp_row.append(A[i][j])\r\n",
    "        if tmp_row != []: new_A.append(tmp_row)\r\n",
    "\r\n",
    "    for i in range(len(new_A)):\r\n",
    "        for j in range(len(new_A)):\r\n",
    "            new_A[i][j] = new_A[i][j] - row[i] * col[j] / denominator\r\n",
    "\r\n",
    "    L22, U22, P22 = LUP_decomp(new_A)\r\n",
    "    \r\n",
    "    L11 = 1\r\n",
    "    U11 = denominator\r\n",
    "\r\n",
    "    L12 = [0] * (len(A) - 1)\r\n",
    "    U12 = col\r\n",
    "\r\n",
    "    L21 = []\r\n",
    "    for i in range(len(row)):\r\n",
    "        summand = 0\r\n",
    "        for j in range(len(row)):\r\n",
    "            summand += P22[i][j] * row[j] / denominator\r\n",
    "        L21.append(summand)\r\n",
    "    \r\n",
    "    U21 = [0] * (len(A) - 1)\r\n",
    "\r\n",
    "    L = []\r\n",
    "    U = []\r\n",
    "    P = []\r\n",
    "\r\n",
    "    for i in range(len(A)):\r\n",
    "        tmp_L = []\r\n",
    "        tmp_U = []\r\n",
    "        tmp_P = []\r\n",
    "        for j in range(len(A)):\r\n",
    "            if (i == 0):\r\n",
    "                if (j == 0):\r\n",
    "                    tmp_L.append(L11)\r\n",
    "                    tmp_U.append(U11)\r\n",
    "                else:\r\n",
    "                    tmp_L.append(L12[j - 1])\r\n",
    "                    tmp_U.append(U12[j - 1])\r\n",
    "                tmp_P.append(1 if j == cut_index else 0)\r\n",
    "            elif (j == 0):\r\n",
    "                tmp_L.append(L21[i - 1])\r\n",
    "                tmp_U.append(U21[i - 1])\r\n",
    "                tmp_P.append(P22[i - 1][j] if j != cut_index else 0)\r\n",
    "            else:\r\n",
    "                tmp_L.append(L22[i - 1][j - 1])\r\n",
    "                tmp_U.append(U22[i - 1][j - 1])\r\n",
    "                if (j < cut_index):\r\n",
    "                    tmp_P.append(P22[i - 1][j])\r\n",
    "                elif (j > cut_index):\r\n",
    "                    tmp_P.append(P22[i - 1][j - 1])\r\n",
    "                else:\r\n",
    "                    tmp_P.append(0)\r\n",
    "        L.append(tmp_L)\r\n",
    "        U.append(tmp_U)\r\n",
    "        P.append(tmp_P)\r\n",
    "\r\n",
    "    return L, U, P"
   ],
   "outputs": [],
   "metadata": {}
  },
  {
   "cell_type": "markdown",
   "source": [
    "### Solving the equation by LUP decomposition\r\n",
    "As we implemented the algorithm, the decomposition can solve the equation easily by two-step of substitution (forward and backward).\r\n",
    "First, we encounter with an equation $L\\mathbf{y} = P\\mathbf{b}$. The solution in this equation can be solved by using forward substitution as the formula below.\r\n",
    "$$\\mathbf{y}_i = \\frac{(P\\mathbf{b})_i - \\sum_{j = 0}^{i - 1} L_{ij}\\mathbf{y}_j}{L_{ii}},$$\r\n",
    "\r\n",
    "and second formula for solving $U\\mathbf{x} = \\mathbf{y}$ as,\r\n",
    "\r\n",
    "$$\\mathbf{x}_i = \\frac{\\mathbf{x}_i - \\sum_{j = i + 1}^n U_{ij}\\mathbf{x}_{ij}}{U_{ii}}.$$"
   ],
   "metadata": {}
  },
  {
   "cell_type": "code",
   "execution_count": 4,
   "source": [
    "def matrix_mul(A, B):\r\n",
    "    if type(A[0]) == list:\r\n",
    "        len_A0 = len(A[0])\r\n",
    "        len_A = len(A)\r\n",
    "        assert len(A[0]) == len(B), \"Column length of A and row length of B are not equal.\"\r\n",
    "    else:\r\n",
    "        len_A0 = len(A)\r\n",
    "        len_A = 1\r\n",
    "        assert len(A) == len(B), \"Column length of A and row length of B are not equal.\"\r\n",
    "    \r\n",
    "    x = []\r\n",
    "\r\n",
    "    if type(B[0]) == list: len_B0 = len(B[0])\r\n",
    "    else: len_B0 = 1\r\n",
    "\r\n",
    "    for i in range(len_A):\r\n",
    "        x_row = []\r\n",
    "        for k in range(len_B0):\r\n",
    "            summand = 0\r\n",
    "            for j in range(len_A0):\r\n",
    "                A_mul = A[j] if type(A[0]) != list else A[i][j]\r\n",
    "                B_mul = B[j] if type(B[0]) != list else B[j][k]\r\n",
    "                summand += A_mul * B_mul\r\n",
    "            x_row.append(summand)\r\n",
    "        x.append(x_row if type(B[0]) == list else x_row[0])\r\n",
    "    return x if (type(x[0]) == list) or (len(x) > 1) else x[0]\r\n",
    "\r\n",
    "def LUP_solver(A, b):\r\n",
    "    L, U, P = LUP_decomp(A)\r\n",
    "    Pb = matrix_mul(P, b)\r\n",
    "\r\n",
    "    y = []\r\n",
    "    for i in range(len(Pb)):\r\n",
    "        summand = 0\r\n",
    "        for j in range(i):\r\n",
    "            summand += L[i][j] * y[j] / L[i][i]\r\n",
    "        y.append(Pb[i] / L[i][i] - summand)\r\n",
    "\r\n",
    "    x = []\r\n",
    "    for i in range(len(Pb) - 1, -1, -1):\r\n",
    "        summand = 0\r\n",
    "        for j in range(len(Pb) - 1, i, -1):\r\n",
    "            summand += U[i][j] * x[j - i - 1] / U[i][i]\r\n",
    "        x = [y[i] / U[i][i] - summand] + x\r\n",
    "    return x"
   ],
   "outputs": [],
   "metadata": {}
  },
  {
   "cell_type": "markdown",
   "source": [
    "For testing a correctness in the algorithm, the same equation as the usage on `np.linalg.solve` above is to verify this function."
   ],
   "metadata": {}
  },
  {
   "cell_type": "code",
   "execution_count": 5,
   "source": [
    "LUP_solver([[1,1,1],[1,5,1],[0.1, 10, 1]], [10, 20, 30])"
   ],
   "outputs": [
    {
     "output_type": "execute_result",
     "data": {
      "text/plain": [
       "[2.7777777777777803, 2.5, 4.72222222222222]"
      ]
     },
     "metadata": {},
     "execution_count": 5
    }
   ],
   "metadata": {}
  },
  {
   "cell_type": "markdown",
   "source": [
    "and it gives the same result as library-based method."
   ],
   "metadata": {}
  },
  {
   "cell_type": "markdown",
   "source": [
    "## Jacobi Method\r\n",
    "\r\n",
    "In the case that matrix has no zero terms on diagonal ones and the matrix has only simple numbers, the easier implementation can be applied as iterative methods as we present in this file.\r\n",
    "\r\n",
    "The iterative methods for solving a linear system consists two approaches, Jacobi method and Gauss-Seidel method. By the fixed point iteration, we can apply its benefits to solve the equation by separating $\\mathbf{x}$ on both sides of the equation. In Jacobi method, $A$ is decomposed by $D + (L + U)$. The equation can be written by the alternative form of $D\\mathbf{x} = \\mathbf{b} - (L+U)\\mathbf{x}$ where $D$ is diagonal matrix, $L$ is strictly lower triangular matrix, and $U$ is strictly upper triangular matrix.\r\n",
    "\r\n",
    "The fixed point iteration can give an iterative method as,\r\n",
    "\r\n",
    "$$\\mathbf{x}_k = D^{-1}(\\mathbf{b}-(L+U)\\mathbf{x}_{k-1}).$$"
   ],
   "metadata": {}
  },
  {
   "cell_type": "code",
   "execution_count": 83,
   "source": [
    "import random\r\n",
    "\r\n",
    "def jacobi_method(matrix, row_vector, iteration, tolerance):\r\n",
    "    x = [random.randrange(-10000, 10000)/10000 for i in range(len(row_vector))]\r\n",
    "    x1 = [0 for i in range(len(row_vector))]\r\n",
    "    for n in range(iteration):\r\n",
    "        for i in range(len(x)):\r\n",
    "            summand = 0\r\n",
    "            for j in range(len(x)):\r\n",
    "                if i != j: summand += matrix[i][j] * x1[j]\r\n",
    "            x1[i] = 1/(matrix[i][i])*(row_vector[i] - summand)\r\n",
    "        error = abs(x1[0] - x[0])\r\n",
    "        for i in range(len(x1)):\r\n",
    "            if error < abs(x1[i] - x[i]):\r\n",
    "                error = abs(x1[i] - x[i])\r\n",
    "        x = x1.copy()\r\n",
    "        if error < tolerance: return x1\r\n",
    "    return x1"
   ],
   "outputs": [],
   "metadata": {}
  },
  {
   "cell_type": "markdown",
   "source": [
    "The same linear system is tested for correctness in this function. As the same as the before, the results is correct."
   ],
   "metadata": {}
  },
  {
   "cell_type": "code",
   "execution_count": 79,
   "source": [
    "jacobi_method([[1,1,1],[1,5,1],[0.1, 10, 1]], [10,20, 30], 100, 1e-5)"
   ],
   "outputs": [
    {
     "output_type": "execute_result",
     "data": {
      "text/plain": [
       "([2.7777768567, 2.49999998976, 4.722222416730002], 11)"
      ]
     },
     "metadata": {},
     "execution_count": 79
    }
   ],
   "metadata": {}
  },
  {
   "cell_type": "code",
   "execution_count": 84,
   "source": [
    "import matplotlib.pyplot as plt\r\n",
    "import matplotlib\r\n",
    "\r\n",
    "matplotlib.rc('text', usetex=True)\r\n",
    "matplotlib.rc('font', size=18)\r\n",
    "matplotlib.rc('legend', fontsize=18)\r\n",
    "matplotlib.rc('text.latex', preamble=r'\\usepackage{fourier}')\r\n",
    "\r\n",
    "plt.rcParams[\"font.family\"] = \"serif\"\r\n",
    "\r\n",
    "fig, ax = plt.subplots(figsize = (8,10))\r\n",
    "\r\n",
    "ax.spines['right'].set_visible(False)\r\n",
    "ax.spines['top'].set_visible(False)\r\n",
    "\r\n",
    "jacobi_result = []\r\n",
    "for i in range(10):\r\n",
    "    jacobi_result.append(jacobi_method([[1,1,1],[1,5,1],[0.1, 10, 1]], [10,20, 30], i, 1e-5))\r\n",
    "plt.plot(np.array(jacobi_result)[:,0])\r\n",
    "plt.plot(np.array(jacobi_result)[:,1])\r\n",
    "plt.plot(np.array(jacobi_result)[:,2])\r\n",
    "plt.title(r\"\\textbf{Jacobi method convergence of $x$ in matrix}\")\r\n",
    "plt.ylabel(r\"$x_i^{(k)}$\")\r\n",
    "plt.xlabel(r\"Iteration $k$\")\r\n",
    "plt.show()"
   ],
   "outputs": [
    {
     "output_type": "display_data",
     "data": {
      "image/png": "[encoded data removed]",
      "text/plain": [
       "<Figure size 576x720 with 1 Axes>"
      ]
     },
     "metadata": {
      "needs_background": "light"
     }
    }
   ],
   "metadata": {}
  },
  {
   "cell_type": "markdown",
   "source": [
    "## Gauss-Seidel Method\r\n",
    "Also in this method, the method is iterative as Jacobi method, but decomposes $A$ as only $L^* + U$ where $L^* = L+D$ and $U$ is the same $U$ as the Jacobian method. The recursion relation in this method is,\r\n",
    "$$L^*\\mathbf{x}_{k} = \\mathbf{b} - U\\mathbf{x}_{k-1}.$$\r\n",
    "\r\n",
    "The equation will solve explicitly by this relation,\r\n",
    "$$\\mathbf{x}_{k} = \\underbrace{L^{*-1}}_{\\text{Forward substitution}}(\\mathbf{b} - U\\mathbf{x}_{k-1})$$"
   ],
   "metadata": {}
  },
  {
   "cell_type": "code",
   "execution_count": 101,
   "source": [
    "def gauss_seidel(matrix, row_vector, iteration, tolerance):\r\n",
    "    x = [random.randrange(-10000, 10000)/10000 for i in range(len(row_vector))]\r\n",
    "    x1 = [0 for i in range(len(row_vector))]\r\n",
    "    for n in range(iteration):\r\n",
    "        for i in range(len(x)):\r\n",
    "            summand_L = 0\r\n",
    "            summand_U = 0\r\n",
    "            for j in range(len(x)):\r\n",
    "                if j < i: summand_L += matrix[i][j] * x1[j]\r\n",
    "                if j > i: summand_U += matrix[i][j] * x[j]\r\n",
    "            x1[i] = 1/matrix[i][i] * (row_vector[i] - summand_L - summand_U)\r\n",
    "        error = x1[0] - x[0]\r\n",
    "        for i in range(len(x1)):\r\n",
    "            if error < abs(x1[i] - x[i]):\r\n",
    "                error = abs(x1[i] - x[i])\r\n",
    "        x = x1.copy()\r\n",
    "        if error < tolerance: return x1\r\n",
    "    return x1"
   ],
   "outputs": [],
   "metadata": {}
  },
  {
   "cell_type": "markdown",
   "source": [
    "As we see that, a function can solve the same system in the same result as the previous ones."
   ],
   "metadata": {}
  },
  {
   "cell_type": "code",
   "execution_count": 102,
   "source": [
    "gauss_seidel([[1,1,1],[1,5,1],[0.1, 10, 1]], [10,20, 30], 100, 1e-5)"
   ],
   "outputs": [
    {
     "output_type": "execute_result",
     "data": {
      "text/plain": [
       "[2.77777661838595, 2.4999999871107073, 4.722222467054333]"
      ]
     },
     "metadata": {},
     "execution_count": 102
    }
   ],
   "metadata": {}
  },
  {
   "cell_type": "code",
   "execution_count": 98,
   "source": [
    "gauss_result = []\r\n",
    "for i in range(10):\r\n",
    "    gauss_result.append(gauss_seidel([[1,1,1],[1,5,1],[0.1, 10, 1]], [10,20, 30], i, 1e-5))\r\n",
    "\r\n",
    "fig, ax = plt.subplots(figsize = (8,10))\r\n",
    "\r\n",
    "ax.spines['right'].set_visible(False)\r\n",
    "ax.spines['top'].set_visible(False)\r\n",
    "\r\n",
    "plt.plot(np.array(gauss_result)[:,0])\r\n",
    "plt.plot(np.array(gauss_result)[:,1])\r\n",
    "plt.plot(np.array(gauss_result)[:,2])\r\n",
    "plt.title(r\"\\textbf{Gauss-Seidel method convergence of $x$ in matrix}\")\r\n",
    "plt.ylabel(r\"$x_i^{(k)}$\")\r\n",
    "plt.xlabel(r\"Iteration $k$\")\r\n",
    "plt.show()"
   ],
   "outputs": [
    {
     "output_type": "display_data",
     "data": {
      "image/png": "[encoded data removed]",
      "text/plain": [
       "<Figure size 576x720 with 1 Axes>"
      ]
     },
     "metadata": {
      "needs_background": "light"
     }
    }
   ],
   "metadata": {}
  },
  {
   "cell_type": "markdown",
   "source": [
    "## Time-complexity analysis\r\n",
    "According to these algorithms, the time complexity in LUP decomposition approach is slower than the lastest methods due to fast convergences. Although, time complexity is arbitrary with the matrix. When the matrix is complex to solve, LUP decomposition will be get faster speed for solving the systems according to its static approach."
   ],
   "metadata": {}
  },
  {
   "cell_type": "code",
   "execution_count": 104,
   "source": [
    "%timeit LUP_solver([[1,1,1],[1,5,1],[0.1, 10, 1]], [10,20, 30])\r\n",
    "%timeit jacobi_method([[1,1,1],[1,5,1],[0.1, 10, 1]], [10,20, 30], 100, 1e-5)\r\n",
    "%timeit gauss_seidel([[1,1,1],[1,5,1],[0.1, 10, 1]], [10,20, 30], 100, 1e-5)"
   ],
   "outputs": [
    {
     "output_type": "stream",
     "name": "stdout",
     "text": [
      "35 µs ± 1.86 µs per loop (mean ± std. dev. of 7 runs, 10000 loops each)\n",
      "44.6 µs ± 2.62 µs per loop (mean ± std. dev. of 7 runs, 10000 loops each)\n",
      "47.1 µs ± 1.84 µs per loop (mean ± std. dev. of 7 runs, 10000 loops each)\n"
     ]
    }
   ],
   "metadata": {}
  },
  {
   "cell_type": "markdown",
   "source": [
    "## Summary\r\n",
    "| Algorithm | Approach | Simple matrix solving time | Complex matrix solving time | Matrix with some zeros in diagonal terms |\r\n",
    "|---|---|---|---|---|\r\n",
    "| LUP Decomposition | Recursive, Gaussian Elimination | Fastest | Medium | Possible |\r\n",
    "| Jacobian Method | Iterative, Fixed-Point Iteration | Depends on tolerance, usually slower | Slow | Impossible |\r\n",
    "| Gauss-Seidel Method | Iterative, Fixed-Point Iteration | Depends on tolerance, usually slowest | Slow | Impossible |"
   ],
   "metadata": {}
  }
 ],
 "metadata": {
  "orig_nbformat": 4,
  "language_info": {
   "name": "python",
   "version": "3.7.6",
   "mimetype": "text/x-python",
   "codemirror_mode": {
    "name": "ipython",
    "version": 3
   },
   "pygments_lexer": "ipython3",
   "nbconvert_exporter": "python",
   "file_extension": ".py"
  },
  "kernelspec": {
   "name": "python3",
   "display_name": "Python 3.7.6 64-bit"
  },
  "interpreter": {
   "hash": "e8a5730ac8e354cb3b677707b63bdaadb3b236eb82b390c223980e65de1ec20e"
  }
 },
 "nbformat": 4,
 "nbformat_minor": 2
}